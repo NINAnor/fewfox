{
 "cells": [
  {
   "cell_type": "code",
   "execution_count": 23,
   "metadata": {},
   "outputs": [],
   "source": [
    "import pathlib\n",
    "import pandas as pd\n",
    "import librosa"
   ]
  },
  {
   "cell_type": "code",
   "execution_count": 36,
   "metadata": {},
   "outputs": [],
   "source": [
    "ROOT_PATH = pathlib.Path(\"/data/Prosjekter3/31250015_fjellrev_avlsprogrammet/\")\n",
    "ANNOTATIONS = ROOT_PATH / \"AUDIOLOGGERS/Annotation/Selection_table\"\n",
    "SOUND_FILES = ROOT_PATH / \"AUDIO_nov-des_2024/H1_2024.10.23-2024.11.06\"\n",
    "\n",
    "\n",
    "files = list(ANNOTATIONS.glob(\"*.txt\"))\n",
    "audio = list(SOUND_FILES.glob(\"*.WAV\"))"
   ]
  },
  {
   "cell_type": "code",
   "execution_count": 24,
   "metadata": {},
   "outputs": [
    {
     "data": {
      "text/plain": [
       "[PosixPath('/data/Prosjekter3/31250015_fjellrev_avlsprogrammet/AUDIOLOGGERS/Annotation/Selection_table/H1_20230725_172740.Table.1.selections.txt'),\n",
       " PosixPath('/data/Prosjekter3/31250015_fjellrev_avlsprogrammet/AUDIOLOGGERS/Annotation/Selection_table/H7_20230725_122510.Table.1.selections.txt'),\n",
       " PosixPath('/data/Prosjekter3/31250015_fjellrev_avlsprogrammet/AUDIOLOGGERS/Annotation/Selection_table/H7_20230725_121505.Table.1.selections.txt'),\n",
       " PosixPath('/data/Prosjekter3/31250015_fjellrev_avlsprogrammet/AUDIOLOGGERS/Annotation/Selection_table/H7_20230726_115455.Table.1.selections.txt'),\n",
       " PosixPath('/data/Prosjekter3/31250015_fjellrev_avlsprogrammet/AUDIOLOGGERS/Annotation/Selection_table/H7_20230726_103415.Table.1.selections.txt')]"
      ]
     },
     "execution_count": 24,
     "metadata": {},
     "output_type": "execute_result"
    }
   ],
   "source": [
    "files_table = [pd.read_table(f) for f in files]\n",
    "files"
   ]
  },
  {
   "cell_type": "code",
   "execution_count": 47,
   "metadata": {},
   "outputs": [],
   "source": [
    "#####################\n",
    "# Get a single file #\n",
    "#####################\n",
    "\n",
    "arr, sr = librosa.load(audio[1], mono=True)\n",
    "\n",
    "s = files_table[1][\"Begin Time (s)\"][1] * sr\n",
    "e = files_table[1][\"End Time (s)\"][1] * sr\n"
   ]
  },
  {
   "cell_type": "code",
   "execution_count": 48,
   "metadata": {},
   "outputs": [
    {
     "data": {
      "text/plain": [
       "22050"
      ]
     },
     "execution_count": 48,
     "metadata": {},
     "output_type": "execute_result"
    }
   ],
   "source": [
    "sr"
   ]
  },
  {
   "cell_type": "code",
   "execution_count": 45,
   "metadata": {},
   "outputs": [
    {
     "ename": "TypeError",
     "evalue": "slice indices must be integers or None or have an __index__ method",
     "output_type": "error",
     "traceback": [
      "\u001b[0;31m---------------------------------------------------------------------------\u001b[0m",
      "\u001b[0;31mTypeError\u001b[0m                                 Traceback (most recent call last)",
      "Cell \u001b[0;32mIn[45], line 1\u001b[0m\n\u001b[0;32m----> 1\u001b[0m segment \u001b[38;5;241m=\u001b[39m \u001b[43marr\u001b[49m\u001b[43m[\u001b[49m\u001b[43ms\u001b[49m\u001b[38;5;241;43m*\u001b[39;49m\u001b[43msr\u001b[49m\u001b[43m:\u001b[49m\u001b[43m \u001b[49m\u001b[43me\u001b[49m\u001b[38;5;241;43m*\u001b[39;49m\u001b[43msr\u001b[49m\u001b[43m]\u001b[49m\n",
      "\u001b[0;31mTypeError\u001b[0m: slice indices must be integers or None or have an __index__ method"
     ]
    }
   ],
   "source": [
    "segment = arr[s*sr: e*sr]"
   ]
  },
  {
   "cell_type": "code",
   "execution_count": null,
   "metadata": {},
   "outputs": [],
   "source": []
  }
 ],
 "metadata": {
  "kernelspec": {
   "display_name": ".venv",
   "language": "python",
   "name": "python3"
  },
  "language_info": {
   "codemirror_mode": {
    "name": "ipython",
    "version": 3
   },
   "file_extension": ".py",
   "mimetype": "text/x-python",
   "name": "python",
   "nbconvert_exporter": "python",
   "pygments_lexer": "ipython3",
   "version": "3.10.12"
  }
 },
 "nbformat": 4,
 "nbformat_minor": 2
}
